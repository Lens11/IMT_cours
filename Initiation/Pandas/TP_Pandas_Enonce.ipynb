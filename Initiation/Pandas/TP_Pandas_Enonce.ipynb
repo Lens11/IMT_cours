{
  "cells": [
    {
      "cell_type": "markdown",
      "metadata": {
        "id": "60f2687d"
      },
      "source": [
        "# Pandas Practical Session"
      ],
      "id": "60f2687d"
    },
    {
      "cell_type": "markdown",
      "metadata": {
        "id": "oWK1MZBFCMCw"
      },
      "source": [
        "## Prerequisites"
      ],
      "id": "oWK1MZBFCMCw"
    },
    {
      "cell_type": "markdown",
      "metadata": {
        "id": "a672ccc7"
      },
      "source": [
        "First, make sure that you are familiar with the two libraries we will use: \n",
        "* Numpy https://numpy.org/doc/stable/user/quickstart.html\n",
        "* Pandas https://pandas.pydata.org/docs/user_guide/10min.html\n",
        "\n",
        "Note that you don't need to master these libraries. \n",
        "You'll just need to know what are the basic notions supporting these libraries, e.g. objects and operations they implement. \n",
        "A careful reading of these starter documentations will be more than enough. \n",
        "You'll next spend more time experiencing with Pandas.\n",
        "\n",
        "Recall the recommended slides about Pandas:  \n",
        "\n",
        "https://stefmolin.github.io/pandas-workshop/slides/html/combined.slides.html#/"
      ],
      "id": "a672ccc7"
    },
    {
      "cell_type": "markdown",
      "metadata": {
        "id": "390eda12"
      },
      "source": [
        "## Pandas to get insights on a French COVID-19 dataset"
      ],
      "id": "390eda12"
    },
    {
      "cell_type": "markdown",
      "metadata": {
        "id": "173ccd99"
      },
      "source": [
        "We ask you to use and develop your Pandas skills to analyse a French dataset related to COVID 19. \n",
        "\n",
        "We will analyse the measured contamination rate in France based on a public dataset. \n",
        "\n",
        "See https://www.data.gouv.fr/fr/datasets/donnees-relatives-aux-resultats-des-tests-virologiques-covid-19/\n",
        "\n",
        "Please download the dataset providing specific contamination numbers per department: `sp-pos-quot-dep-*.csv`\n",
        "\n",
        "The data file you'll use looks like:"
      ],
      "id": "173ccd99"
    },
    {
      "cell_type": "markdown",
      "metadata": {
        "id": "a71d460a"
      },
      "source": [
        "    >head data/sp-pos-quot-dep-2022-01-16-19h08.csv \n",
        "    dep;jour;P;T;cl_age90;pop\n",
        "    01;2020-05-13;0;16;09;83001\n",
        "    01;2020-05-13;1;17;19;84665\n",
        "    01;2020-05-13;0;34;29;65496\n",
        "    01;2020-05-13;1;72;39;85588\n",
        "    01;2020-05-13;0;54;49;89678\n",
        "    01;2020-05-13;0;42;59;89791\n",
        "    01;2020-05-13;0;29;69;73500\n",
        "    01;2020-05-13;1;30;79;51011\n",
        "    01;2020-05-13;4;29;89;26830\n"
      ],
      "id": "a71d460a"
    },
    {
      "cell_type": "markdown",
      "metadata": {
        "id": "I-PN4C3zC-W_"
      },
      "source": [
        "Answer the following questions (estimated time 4 hours): \n",
        "* Use your favorite search engine\n",
        "* Consult Pandas' official documentation"
      ],
      "id": "I-PN4C3zC-W_"
    },
    {
      "cell_type": "markdown",
      "metadata": {
        "id": "PloKZAgJC3dg"
      },
      "source": [
        "---\n",
        "**Question 1** : Import required packages : `numpy` (np) and `pandas` (pd)"
      ],
      "id": "PloKZAgJC3dg"
    },
    {
      "cell_type": "markdown",
      "metadata": {
        "id": "e7cc6f1d"
      },
      "source": [
        "---\n",
        "**Question 2** : Use Pandas to load the dataset into a DataFrame\n"
      ],
      "id": "e7cc6f1d"
    },
    {
      "cell_type": "markdown",
      "metadata": {
        "id": "1ncJeSAazWKT"
      },
      "source": [
        "---\n",
        "**Question 3** : \n",
        "Load directly the remote file passing the URL"
      ],
      "id": "1ncJeSAazWKT"
    },
    {
      "cell_type": "markdown",
      "metadata": {
        "id": "27e645ac"
      },
      "source": [
        "---\n",
        "**Question 4** : \n",
        "* show the column names \n",
        "* check the data types of each columns \n",
        "* show a quick summary of the dataset\n",
        "* show basic information that could be useful for a raw descriptive analysis\n",
        "\n",
        "Make sure you have no warning and set the 'jour' column to a data type suited to deal with dates. "
      ],
      "id": "27e645ac"
    },
    {
      "cell_type": "markdown",
      "metadata": {
        "id": "f34f0fec"
      },
      "source": [
        "---\n",
        "**Question 5**: Show the first 100 rows of your dataframe.\n",
        "\n",
        "Inspect the meaning of those values. Consult the documentation and make sure your understanding of the data structure is correct."
      ],
      "id": "f34f0fec"
    },
    {
      "cell_type": "markdown",
      "metadata": {
        "id": "690a361c"
      },
      "source": [
        "---\n",
        "**Question 6**: show the last 15 lines of the dataframe"
      ],
      "id": "690a361c"
    },
    {
      "cell_type": "markdown",
      "metadata": {
        "id": "04a7d3b3"
      },
      "source": [
        "We will next make daily comparison of metrics. \n",
        "\n",
        "Feel free to organize your dataframe the way you like. \n",
        "\n",
        "---\n",
        "**Question 7**: show the data you have for:  day 2020-05-13 and French department Pyrénées-Atlantiques\n"
      ],
      "id": "04a7d3b3"
    },
    {
      "cell_type": "markdown",
      "metadata": {
        "id": "2ed6a7b7"
      },
      "source": [
        "---\n",
        "**Question 8**: To what refers the row `cl_age90\" == 0`?"
      ],
      "id": "2ed6a7b7"
    },
    {
      "cell_type": "markdown",
      "metadata": {
        "id": "b4e3daaa"
      },
      "source": [
        "For a given day, the rows with `cl_age90\" == 0` refer to the aggregation of the corresponding values for all the other `cl_age90` values of that day. "
      ],
      "id": "b4e3daaa"
    },
    {
      "cell_type": "markdown",
      "metadata": {
        "id": "c36ae6fe"
      },
      "source": [
        "---\n",
        "**Question 9**: \n",
        "* Create a view of the filtered data\n",
        "* Show the values of the first row of that selection\n",
        "* sum up the P, T and pop values excluding the `cl_age90 == 0` row"
      ],
      "id": "c36ae6fe"
    },
    {
      "cell_type": "markdown",
      "metadata": {
        "id": "43ba2bbb"
      },
      "source": [
        "The semantics of the lines for which `cl_age90 == 0` is different from the others.\n",
        "\n",
        "\n",
        "---\n",
        "**Question 10**: \n",
        "* Create a copy of the original dataframe\n",
        "* Remove the lines corresponding to already computed aggregates (`cl_age90 == 0`)"
      ],
      "id": "43ba2bbb"
    },
    {
      "cell_type": "markdown",
      "metadata": {
        "id": "71e81033"
      },
      "source": [
        "---\n",
        "**Question 11**: Let's focus on a specific departement\n",
        "\n",
        "Make a copy of the data related to a department of your choice"
      ],
      "id": "71e81033"
    },
    {
      "cell_type": "markdown",
      "metadata": {
        "id": "a75da94c"
      },
      "source": [
        "---\n",
        "**Question 12**: show the column corresponding to `\"jour\",\"P\", \"T\", 'cl_age90'`"
      ],
      "id": "a75da94c"
    },
    {
      "cell_type": "markdown",
      "metadata": {
        "id": "d2d0883a"
      },
      "source": [
        "---\n",
        "**Question 13**: Add a column with the percentage of positive cases each day for each group \n",
        "\n",
        "Check first if we are going to divide by 0 first"
      ],
      "id": "d2d0883a"
    },
    {
      "cell_type": "markdown",
      "metadata": {
        "id": "30a942cc"
      },
      "source": [
        "Make the same test setting the department value to 64 if you have no Nan.\n",
        "\n",
        "Add the column even if you are dividing by 0 "
      ],
      "id": "30a942cc"
    },
    {
      "cell_type": "markdown",
      "metadata": {
        "id": "9b71f34a"
      },
      "source": [
        "---\n",
        "**Question 14**: show the values you obtain when you are dividing by 0"
      ],
      "id": "9b71f34a"
    },
    {
      "cell_type": "markdown",
      "metadata": {
        "id": "1d6417e3"
      },
      "source": [
        "---\n",
        "**Question 15**: Automatically count the number of Nan values"
      ],
      "id": "1d6417e3"
    },
    {
      "cell_type": "markdown",
      "metadata": {
        "id": "c097d73d"
      },
      "source": [
        "---\n",
        "**Question 16**: manually set all Nan values to 0"
      ],
      "id": "c097d73d"
    },
    {
      "cell_type": "markdown",
      "metadata": {
        "id": "5a08ffd2"
      },
      "source": [
        "Show again the values that were set to Nan"
      ],
      "id": "5a08ffd2"
    },
    {
      "cell_type": "markdown",
      "metadata": {
        "id": "8ae08aad"
      },
      "source": [
        "---\n",
        "**Question 17**: \n",
        "\n",
        "We will now focus on the class of person between 49 and 59 of age. \n",
        "Build a copy of the corresponding selection of the dataset. "
      ],
      "id": "8ae08aad"
    },
    {
      "cell_type": "markdown",
      "metadata": {
        "id": "9ed2b7a5"
      },
      "source": [
        "---\n",
        "**Question 18**: Drop the pop, cl_age90 and dep columns"
      ],
      "id": "9ed2b7a5"
    },
    {
      "cell_type": "markdown",
      "metadata": {
        "id": "O08rz2PSVP9u"
      },
      "source": [
        "---\n",
        "**Question 19**: Select the rows corresponding to the min and max positive cases"
      ],
      "id": "O08rz2PSVP9u"
    },
    {
      "cell_type": "markdown",
      "metadata": {
        "id": "a9a774d5"
      },
      "source": [
        "---\n",
        "**Question 20**: Plot the the number of tests during the period of time covered by the dataset   "
      ],
      "id": "a9a774d5"
    },
    {
      "cell_type": "markdown",
      "metadata": {
        "id": "2647ae53"
      },
      "source": [
        "---\n",
        "**Question 21**: show the specific period from 04/01/2020 to 01/07/2021"
      ],
      "id": "2647ae53"
    },
    {
      "cell_type": "markdown",
      "metadata": {
        "id": "dc54956b"
      },
      "source": [
        "----\n",
        "**Question 22**: delete week-end data "
      ],
      "id": "dc54956b"
    },
    {
      "cell_type": "markdown",
      "metadata": {
        "id": "6c446518"
      },
      "source": [
        "---\n",
        "**Question 23**: Quickly analyse the outliers"
      ],
      "id": "6c446518"
    },
    {
      "cell_type": "markdown",
      "metadata": {
        "id": "ad087d9a"
      },
      "source": [
        "---\n",
        "**Question 24**\n",
        "Plot the full plot without date restriction"
      ],
      "id": "ad087d9a"
    },
    {
      "cell_type": "markdown",
      "metadata": {
        "id": "c5cb77a8"
      },
      "source": [
        "---\n",
        "**Question 25**: analyse the plot of the contamination rate"
      ],
      "id": "c5cb77a8"
    },
    {
      "cell_type": "markdown",
      "metadata": {
        "id": "1Ey1CjnH3Eoy"
      },
      "source": [
        "---\n",
        "**Question 26**: Smooth the previous plot by computing a new column averaging for each day the contamination on a 5 days sliding window.  "
      ],
      "id": "1Ey1CjnH3Eoy"
    },
    {
      "cell_type": "markdown",
      "metadata": {
        "id": "mOwXBESj884w"
      },
      "source": [
        "---\n",
        "**Question 27**: drop the new column you've just added"
      ],
      "id": "mOwXBESj884w"
    },
    {
      "cell_type": "markdown",
      "metadata": {
        "id": "4d20d411"
      },
      "source": [
        "---\n",
        "**Question 28**: Plot the distribution of number of positive cases with regard to the number of tests made each day."
      ],
      "id": "4d20d411"
    },
    {
      "cell_type": "markdown",
      "metadata": {
        "id": "a1d3806b"
      },
      "source": [
        "---\n",
        "**Question 29**: Set a `date_start_omicron` and compare the results"
      ],
      "id": "a1d3806b"
    },
    {
      "cell_type": "markdown",
      "metadata": {
        "id": "c6c36723"
      },
      "source": [
        "---\n",
        "**Question 30**: Filter the `'cl_age90' == 0` from the original dataset and show the set of different values now composing the `cl_age90` column"
      ],
      "id": "c6c36723"
    },
    {
      "cell_type": "markdown",
      "metadata": {
        "id": "0427691e"
      },
      "source": [
        "---\n",
        "**Question 31**: Aggregate the data to obtain the data you've just removed. "
      ],
      "id": "0427691e"
    },
    {
      "cell_type": "markdown",
      "metadata": {
        "id": "6804a2a5"
      },
      "source": [
        "---\n",
        "**Question 32**: Show the index"
      ],
      "id": "6804a2a5"
    },
    {
      "cell_type": "markdown",
      "metadata": {
        "id": "16f26740"
      },
      "source": [
        "---\n",
        "**Question 33**: Compute the total population"
      ],
      "id": "16f26740"
    },
    {
      "cell_type": "markdown",
      "metadata": {
        "id": "0096cfa7"
      },
      "source": [
        "---\n",
        "**Question 34**: Assuming each person has at most been infected one time,\n",
        "compute the percentage of the population already exposed to the virus."
      ],
      "id": "0096cfa7"
    },
    {
      "cell_type": "markdown",
      "metadata": {
        "id": "fvoKHrmUYIPT"
      },
      "source": [
        "---\n",
        "**Question 35**: Build a dataframe containing all the sum of tested and positive per day and departement"
      ],
      "id": "fvoKHrmUYIPT"
    },
    {
      "cell_type": "markdown",
      "metadata": {
        "id": "p1soEOCIZJUU"
      },
      "source": [
        "---\n",
        "**Question 36**: Test if this dataframe is equal to the one you'd obtain using the precomputed info in the original dataset"
      ],
      "id": "p1soEOCIZJUU"
    },
    {
      "cell_type": "markdown",
      "metadata": {
        "id": "rPFi9uPmETnT"
      },
      "source": [
        "---\n",
        "**Question 37**\n",
        "Save the comparison into a csv file"
      ],
      "id": "rPFi9uPmETnT"
    },
    {
      "cell_type": "markdown",
      "source": [
        "---\n",
        "**Question 38**\n",
        "Let's use another dataset"
      ],
      "metadata": {
        "id": "1CjlOahoIdbC"
      },
      "id": "1CjlOahoIdbC"
    },
    {
      "cell_type": "markdown",
      "metadata": {
        "id": "9y3yZsRjZYU2"
      },
      "source": [
        "https://www.data.gouv.fr/fr/datasets/donnees-hospitalieres-relatives-a-lepidemie-de-covid-19/\n",
        "\n",
        "Load the dataset available at this URL\n",
        "\n",
        "https://www.data.gouv.fr/fr/datasets/r/e3d83ab3-dc52-4c99-abaf-8a38050cc68c\n",
        "\n",
        "```\n",
        "tx_indic_7J_DC = Nombre de personnes décédées durant les 7 derniers jours\n",
        "tx_indic_7J_hosp = Nombre de nouvelles hospitalisation lors des 7 derniers jours\n",
        "tx_indic_7J_SC = Nombre d'hospitalisation en soin critique lors des 7 derniers jours\n",
        "tx_prev_hosp = Nombre total de personnes hospitalisées\n",
        "tx_prev_SC = Nombre total de personnes en soin critique\n",
        "```"
      ],
      "id": "9y3yZsRjZYU2"
    },
    {
      "cell_type": "markdown",
      "metadata": {
        "id": "SYfs3F0nKj4O"
      },
      "source": [
        "---\n",
        "**Question 39**\n",
        "Plot the data you have for the date 2022-01-11"
      ],
      "id": "SYfs3F0nKj4O"
    },
    {
      "cell_type": "markdown",
      "metadata": {
        "id": "i3yXV2kzJEV8"
      },
      "source": [
        "---\n",
        "**Question 40**: Plot the `tx_indic_7J_DC` variable."
      ],
      "id": "i3yXV2kzJEV8"
    },
    {
      "cell_type": "markdown",
      "metadata": {
        "id": "1Iklu_oEHqHX"
      },
      "source": [
        "---\n",
        "**Question 41**: Compare the plots of the `tx_indic_7J_DC` variable with the one obtained for the person older than 49 years old and lower than 70. \n",
        "\n",
        "\n"
      ],
      "id": "1Iklu_oEHqHX"
    },
    {
      "cell_type": "markdown",
      "metadata": {
        "id": "0yiQBdc4TRP9"
      },
      "source": [
        "---\n",
        "**Question 42**: Plot the number of deaths with the number of positive cases. "
      ],
      "id": "0yiQBdc4TRP9"
    }
  ],
  "metadata": {
    "colab": {
      "collapsed_sections": [],
      "name": "TP Pandas - Students",
      "toc_visible": true,
      "provenance": []
    },
    "kernelspec": {
      "display_name": "Python 3 (ipykernel)",
      "language": "python",
      "name": "python3"
    },
    "language_info": {
      "codemirror_mode": {
        "name": "ipython",
        "version": 3
      },
      "file_extension": ".py",
      "mimetype": "text/x-python",
      "name": "python",
      "nbconvert_exporter": "python",
      "pygments_lexer": "ipython3",
      "version": "3.7.11"
    }
  },
  "nbformat": 4,
  "nbformat_minor": 5
}